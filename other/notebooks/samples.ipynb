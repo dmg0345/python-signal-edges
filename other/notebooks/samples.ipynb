{
 "cells": [
  {
   "cell_type": "markdown",
   "metadata": {},
   "source": [
    "# Example Notebook\n",
    "\n",
    "This notebook provides an example environment where to analyze samples using the ``sample`` module."
   ]
  },
  {
   "cell_type": "code",
   "execution_count": null,
   "metadata": {},
   "outputs": [],
   "source": [
    "# Python imports.\n",
    "import sys\n",
    "import os\n",
    "\n",
    "# Add path to 'signal-edges' package and perform imports.\n",
    "sys.path.append(os.path.abspath(r\"./../../src\"))\n",
    "\n",
    "from signal_edges.signal import VoltageSignal\n",
    "from signal_edges.signal.sample import Sample, Waveform, SampleManager\n",
    "from signal_edges.signal.generator import SignalGenerator\n",
    "from signal_edges.signal.edges import IntPointPolicy\n",
    "from signal_edges import plotter as sep"
   ]
  },
  {
   "cell_type": "code",
   "execution_count": null,
   "metadata": {},
   "outputs": [],
   "source": [
    "# Initialize sample manager to local vault.\n",
    "sample_manager = SampleManager(os.path.normpath(\"./samples\"))\n",
    "\n",
    "# Create generator with initial values.\n",
    "sampling_frequency = 100000\n",
    "generator = SignalGenerator(0, 1 / sampling_frequency, 100, 0, 90)\n",
    "\n",
    "# Build signal with multiple pulses.\n",
    "generator.add_flat(100)\n",
    "generator.add_edge(\"falling\", 0, 100)\n",
    "generator.add_flat(100)\n",
    "generator.add_edge(\"rising\", 90, 100)\n",
    "generator.repeat(1000000 // 400)\n",
    "\n",
    "# Generate signal with some noise.\n",
    "(signal_x, signal_y) = generator.generate()\n",
    "\n",
    "# Store as sample one with the sample manager.\n",
    "sample = sample_manager.new(0, [{\"wid\": 0, \"hvalues\": signal_x, \"vvalues\": signal_y, \"sp\": sampling_frequency}], overwrite=True)\n",
    "\n",
    "# Create voltage signal from sample.\n",
    "signal = VoltageSignal(sample.waveforms[0].hvalues, sample.waveforms[0].vvalues, \"s\", \"V\")\n",
    "\n",
    "# Create filtered signal.\n",
    "filtered_signal = signal.filters_elliptic(sample.waveforms[0].meta[\"sp\"], 2, sample.waveforms[0].meta[\"sp\"] // 2.5)\n",
    "\n",
    "# Calculate state levels.\n",
    "(state_levels, (hist_x, hist_y)) = filtered_signal.state_levels()\n",
    "\n",
    "# Calculate edges.\n",
    "edges = filtered_signal.edges(state_levels, IntPointPolicy.POLICY_0)"
   ]
  },
  {
   "cell_type": "code",
   "execution_count": null,
   "metadata": {},
   "outputs": [],
   "source": [
    "# Set delimiters of the plot.\n",
    "begin_plot_edge = edges[len(edges) // 2]\n",
    "end_plot_edge = edges[(len(edges) // 2) + 2]\n",
    "\n",
    "begin_plot = begin_plot_edge[\"hbegin\"]\n",
    "end_plot = end_plot_edge[\"hend\"]\n",
    "munits = 2\n",
    "\n",
    "# Create subplot items for first row.\n",
    "row_0_item_0 = (\"signal\", (begin_plot, end_plot, munits, \"Original Signal #0\", \"gray\", signal))\n",
    "row_0_item_1 = (\"signal\", (begin_plot, end_plot, munits, \"Filtered Signal #0\", \"red\", filtered_signal))\n",
    "row_0_item_2 = (\"state_levels\", (begin_plot, end_plot, munits, filtered_signal, state_levels))\n",
    "row_0_item_3 = (\"edges\", (begin_plot, end_plot, munits, filtered_signal, edges))\n",
    "\n",
    "# Build rows for plot.\n",
    "row_0 = [row_0_item_0, row_0_item_1, row_0_item_2, row_0_item_3]\n",
    "\n",
    "# Set cursors.\n",
    "cursor_0 = sep.Cursor(\"A\", begin_plot_edge[\"iintermediate\"], 0, 0, [\"Filtered Signal #0\"], 6)\n",
    "cursor_1 = sep.Cursor(\"B\", end_plot_edge[\"iintermediate\"], 0, 0, [\"Filtered Signal #0\"], 6)\n",
    "\n",
    "# Build plot for all the signals with the state levels.\n",
    "SampleManager.plot(\n",
    "    row_0=row_0,\n",
    "    points=[\"begin\", \"intermediate\", \"end\"],\n",
    "    levels=[\"low\", \"high\", \"intermediate\"],\n",
    "    cursors=[cursor_0, cursor_1]\n",
    ")"
   ]
  }
 ],
 "metadata": {
  "kernelspec": {
   "display_name": "Python 3.10.8 ('.venv': poetry)",
   "language": "python",
   "name": "python3"
  },
  "language_info": {
   "codemirror_mode": {
    "name": "ipython",
    "version": 3
   },
   "file_extension": ".py",
   "mimetype": "text/x-python",
   "name": "python",
   "nbconvert_exporter": "python",
   "pygments_lexer": "ipython3",
   "version": "3.11.2"
  },
  "orig_nbformat": 4,
  "vscode": {
   "interpreter": {
    "hash": "9c137453ee67e4140af9f90261c6942de1c7bfec45eed3bf7132c8f85b67a8b2"
   }
  }
 },
 "nbformat": 4,
 "nbformat_minor": 2
}
